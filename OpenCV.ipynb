{
 "cells": [
  {
   "cell_type": "code",
   "execution_count": null,
   "id": "7c38071a",
   "metadata": {},
   "outputs": [],
   "source": [
    "# ! pip install opencv-contrib-python\n",
    "# ! pip install imutils"
   ]
  },
  {
   "cell_type": "markdown",
   "id": "2bf1656f",
   "metadata": {},
   "source": [
    "### Image Read"
   ]
  },
  {
   "cell_type": "code",
   "execution_count": 1,
   "id": "2cd34afb",
   "metadata": {},
   "outputs": [],
   "source": [
    "import cv2\n",
    "\n",
    "file = 'Imgs/sky.jpg'\n",
    "img = cv2.imread(file)\n",
    "# img = cv2.imread(file, cv2.IMREAD_GRAYSCALE)\n",
    "\n",
    "if img is not None:\n",
    "    img = cv2.resize(img, dsize=(640, 480), interpolation=cv2.INTER_AREA)\n",
    "    \n",
    "    cv2.imshow('img', img)\n",
    "    cv2.waitKey()\n",
    "    cv2.destroyAllWindows()\n",
    "else:\n",
    "    print('no image')"
   ]
  },
  {
   "cell_type": "markdown",
   "id": "3627a494",
   "metadata": {},
   "source": [
    "### Video Read"
   ]
  },
  {
   "cell_type": "markdown",
   "id": "876a4268",
   "metadata": {},
   "source": [
    "Index terms\n",
    "`CAP_PROP_FRAME_WIDTH`\n",
    "`CAP_PROP_FRAME_HEIGHT`\n",
    "`CAP_PROP_FPS`\n",
    "`CAP_PROP_ZOOM`"
   ]
  },
  {
   "cell_type": "code",
   "execution_count": 3,
   "id": "70507dea",
   "metadata": {},
   "outputs": [
    {
     "name": "stdout",
     "output_type": "stream",
     "text": [
      "width, height =  1074.0 550.0\n",
      "fps =  30.021428571428572\n",
      "zoom =  0.0\n"
     ]
    }
   ],
   "source": [
    "import cv2\n",
    "import imutils\n",
    "\n",
    "file = 'Videos/vehicle_1.mp4'\n",
    "\n",
    "cap = cv2.VideoCapture(file)\n",
    "\n",
    "width, height = cap.get(cv2.CAP_PROP_FRAME_WIDTH), cap.get(cv2.CAP_PROP_FRAME_HEIGHT)\n",
    "print('width, height = ', width, height)\n",
    "\n",
    "fps = cap.get(cv2.CAP_PROP_FPS)\n",
    "print('fps = ', fps)\n",
    "\n",
    "zoom = cap.get(cv2.CAP_PROP_ZOOM)\n",
    "print('zoom = ', zoom)\n",
    "\n",
    "\n",
    "# RESIZE\n",
    "# width, height = width / 2, height / 2\n",
    "# cap.set(cv2.CAP_PROP_FRAME_WIDTH, width) -> not working :(\n",
    "# cap.set(cv2.CAP_PROP_FRAME_HEIGHT, height) -> not working :(\n",
    "# width, height = cap.get(cv2.CAP_PROP_FRAME_WIDTH), cap.get(cv2.CAP_PROP_FRAME_HEIGHT)\n",
    "# print('* width, height = ', width, height)\n",
    "\n",
    "\n",
    "if cap.isOpened():\n",
    "    while True:\n",
    "        ret, img = cap.read()\n",
    "              \n",
    "        if ret:\n",
    "            # RESIZE (it's working!)\n",
    "            img = imutils.resize(img, width=320)\n",
    "            img = cv2.cvtColor(img, cv2.COLOR_BGR2GRAY)\n",
    "            \n",
    "            cv2.imshow(file, img)\n",
    "            cv2.waitKey(33)\n",
    "        else:\n",
    "            break\n",
    "else:\n",
    "    print('cannot open the file')\n",
    "    \n",
    "cap.release()\n",
    "cv2.destroyAllWindows()"
   ]
  },
  {
   "cell_type": "markdown",
   "id": "c1a61f0f",
   "metadata": {},
   "source": [
    "### Region of interest"
   ]
  },
  {
   "cell_type": "code",
   "execution_count": 2,
   "id": "14e86502",
   "metadata": {},
   "outputs": [
    {
     "name": "stdout",
     "output_type": "stream",
     "text": [
      "(150, 150, 3)\n"
     ]
    }
   ],
   "source": [
    "import cv2\n",
    "\n",
    "file = 'Imgs/sky.jpg'\n",
    "img = cv2.imread(file)\n",
    "\n",
    "x, y, w, h = 675, 100, 150, 150\n",
    "roi = img[y:y+h, x:x+w]\n",
    "\n",
    "print(roi.shape)\n",
    "\n",
    "cv2.rectangle(roi, (0, 0), (h-1, w-1), (0, 0, 255)) # (0, 0, 255) : Red <- (Consider BGR!!!)\n",
    "cv2.imshow('img', img)\n",
    "cv2.waitKey(0)\n",
    "cv2.destroyAllWindows()"
   ]
  },
  {
   "cell_type": "code",
   "execution_count": 7,
   "id": "084f19f9",
   "metadata": {},
   "outputs": [],
   "source": [
    "import cv2\n",
    "\n",
    "file = 'Imgs/sky.jpg'\n",
    "img = cv2.imread(file)\n",
    "\n",
    "x, y, w, h = 675, 100, 150, 150\n",
    "roi = img[y:y+h, x:x+w]\n",
    "# img2 = roi.copy()\n",
    "\n",
    "img[y:y+h, x+w:x+2*w] = roi\n",
    "\n",
    "cv2.rectangle(img, (x, y), (x+2*w + 15, y+h + 15), (0, 0, 255)) # (0, 0, 255) : Red <- (Consider BGR!!!)\n",
    "\n",
    "cv2.imshow('img', img)\n",
    "cv2.imshow('roi', roi)\n",
    "cv2.waitKey(0)\n",
    "cv2.destroyAllWindows()"
   ]
  },
  {
   "cell_type": "markdown",
   "id": "d10536b1",
   "metadata": {},
   "source": [
    "#### Using mouse"
   ]
  },
  {
   "cell_type": "code",
   "execution_count": null,
   "id": "084b7d19",
   "metadata": {},
   "outputs": [],
   "source": [
    "import cv2\n",
    " \n",
    "isDragging = False\n",
    "x0, y0, w, h = -1, -1, -1, -1\n",
    "blue, red = (255, 0, 0), (0, 0, 255)\n",
    " \n",
    "def onMouse(event, x, y, flags, param):\n",
    "    global isDragging, x0, y0, img\n",
    "    if event == cv2.EVENT_LBUTTONDOWN:\n",
    "        isDragging = True\n",
    "        x0 = x\n",
    "        y0 = y\n",
    "    elif event == cv2.EVENT_MOUSEMOVE:\n",
    "        if isDragging:\n",
    "            img_draw = img.copy()\n",
    "            cv2.rectangle(img_draw, (x0, y0), (x, y), blue, 2)\n",
    "            cv2.imshow('img', img_draw)\n",
    "    elif event == cv2.EVENT_LBUTTONUP:\n",
    "        if isDragging:\n",
    "            isDragging = False\n",
    "            w = x - x0\n",
    "            h = y - y0\n",
    "            if w > 0 and h > 0:\n",
    "                img_draw = img.copy()\n",
    "                cv2.rectangle(img_draw, (x0, y0), (x, y), red, 2)\n",
    "                cv2.imshow('img', img_draw)\n",
    "                roi = img[y0:y0+h, x0:x0+w]\n",
    "                cv2.imshow('cropped', roi)\n",
    "                cv2.moveWindow('cropped', 0, 0)\n",
    "                cv2.imwrite('./cropped.png', roi)\n",
    "            else:\n",
    "                cv2.imshow('img', img)\n",
    "                print('drag should start from left-top side')\n",
    "\n",
    "\n",
    "file = 'Imgs/sky.jpg'\n",
    "img = cv2.imread(file)\n",
    "cv2.imshow('img', img)\n",
    "cv2.setMouseCallback('img', onMouse)\n",
    "cv2.waitKey()\n",
    "cv2.destroyAllWindows()"
   ]
  },
  {
   "cell_type": "markdown",
   "id": "abe65768",
   "metadata": {},
   "source": [
    "### Alpha-blending"
   ]
  },
  {
   "cell_type": "code",
   "execution_count": 1,
   "id": "1171aef7",
   "metadata": {},
   "outputs": [
    {
     "ename": "error",
     "evalue": "OpenCV(4.5.4) /tmp/pip-req-build-th1mncc2/opencv/modules/core/src/arithm.cpp:647: error: (-209:Sizes of input arguments do not match) The operation is neither 'array op array' (where arrays have the same size and the same number of channels), nor 'array op scalar', nor 'scalar op array' in function 'arithm_op'\n",
     "output_type": "error",
     "traceback": [
      "\u001b[0;31m---------------------------------------------------------------------------\u001b[0m",
      "\u001b[0;31merror\u001b[0m                                     Traceback (most recent call last)",
      "\u001b[0;32m<ipython-input-1-5d290733070d>\u001b[0m in \u001b[0;36m<module>\u001b[0;34m\u001b[0m\n\u001b[1;32m     10\u001b[0m \u001b[0;34m\u001b[0m\u001b[0m\n\u001b[1;32m     11\u001b[0m \u001b[0malpha\u001b[0m \u001b[0;34m=\u001b[0m \u001b[0;36m0.5\u001b[0m\u001b[0;34m\u001b[0m\u001b[0;34m\u001b[0m\u001b[0m\n\u001b[0;32m---> 12\u001b[0;31m \u001b[0mdst\u001b[0m \u001b[0;34m=\u001b[0m \u001b[0mcv2\u001b[0m\u001b[0;34m.\u001b[0m\u001b[0maddWeighted\u001b[0m\u001b[0;34m(\u001b[0m\u001b[0mimg1\u001b[0m\u001b[0;34m,\u001b[0m \u001b[0malpha\u001b[0m\u001b[0;34m,\u001b[0m \u001b[0mimg2\u001b[0m\u001b[0;34m,\u001b[0m \u001b[0;34m(\u001b[0m\u001b[0;36m1\u001b[0m\u001b[0;34m-\u001b[0m\u001b[0malpha\u001b[0m\u001b[0;34m)\u001b[0m\u001b[0;34m,\u001b[0m \u001b[0;36m0\u001b[0m\u001b[0;34m)\u001b[0m\u001b[0;34m\u001b[0m\u001b[0;34m\u001b[0m\u001b[0m\n\u001b[0m\u001b[1;32m     13\u001b[0m \u001b[0mcv2\u001b[0m\u001b[0;34m.\u001b[0m\u001b[0mimshow\u001b[0m\u001b[0;34m(\u001b[0m\u001b[0;34m'cv2.addWeighted'\u001b[0m\u001b[0;34m,\u001b[0m \u001b[0mdst\u001b[0m\u001b[0;34m)\u001b[0m\u001b[0;34m\u001b[0m\u001b[0;34m\u001b[0m\u001b[0m\n\u001b[1;32m     14\u001b[0m \u001b[0mcv2\u001b[0m\u001b[0;34m.\u001b[0m\u001b[0mwaitKey\u001b[0m\u001b[0;34m(\u001b[0m\u001b[0;36m0\u001b[0m\u001b[0;34m)\u001b[0m\u001b[0;34m\u001b[0m\u001b[0;34m\u001b[0m\u001b[0m\n",
      "\u001b[0;31merror\u001b[0m: OpenCV(4.5.4) /tmp/pip-req-build-th1mncc2/opencv/modules/core/src/arithm.cpp:647: error: (-209:Sizes of input arguments do not match) The operation is neither 'array op array' (where arrays have the same size and the same number of channels), nor 'array op scalar', nor 'scalar op array' in function 'arithm_op'\n"
     ]
    }
   ],
   "source": [
    "import cv2\n",
    "import numpy as np\n",
    "import matplotlib.pylab as plt\n",
    " \n",
    "file1 = 'Imgs/cat.jpg'\n",
    "file2 = 'Imgs/dog.jpg'\n",
    "    \n",
    "img1 = cv2.imread(file1)\n",
    "img2 = cv2.imread(file2)\n",
    " \n",
    "alpha = 0.5\n",
    "dst = cv2.addWeighted(img1, alpha, img2, (1-alpha), 0)\n",
    "cv2.imshow('cv2.addWeighted', dst)\n",
    "cv2.waitKey(0)\n",
    "cv2.destroyAllWindows()"
   ]
  },
  {
   "cell_type": "code",
   "execution_count": null,
   "id": "0270a510",
   "metadata": {},
   "outputs": [],
   "source": [
    "import cv2\n",
    "import numpy as np\n",
    "import matplotlib.pylab as plt\n",
    " \n",
    "file1 = 'Imgs/cat.jpg'\n",
    "file2 = 'Imgs/dog.jpg'\n",
    "    \n",
    "img1 = cv2.imread(file1)\n",
    "img2 = cv2.imread(file2)\n",
    "\n",
    "img1 = cv2.resize(img1, dsize=(640, 480), interpolation=cv2.INTER_AREA)\n",
    "img2 = cv2.resize(img2, dsize=(640, 480), interpolation=cv2.INTER_AREA)\n",
    " \n",
    "alpha = 0.5\n",
    "dst = cv2.addWeighted(img1, alpha, img2, (1-alpha), 0)\n",
    "cv2.imshow('cv2.addWeighted', dst)\n",
    "cv2.waitKey(0)\n",
    "cv2.destroyAllWindows()"
   ]
  },
  {
   "cell_type": "markdown",
   "id": "af051d4b",
   "metadata": {},
   "source": [
    "### Bitwise Operation\n",
    "`bitwise_and`\n",
    "`bitwise_or`\n",
    "`bitwise_Xor`\n",
    "`bitwise_Not`"
   ]
  },
  {
   "cell_type": "code",
   "execution_count": 1,
   "id": "d11e7b2f",
   "metadata": {},
   "outputs": [
    {
     "data": {
      "image/png": "[encoded data removed]",
      "text/plain": [
       "<Figure size 432x288 with 6 Axes>"
      ]
     },
     "metadata": {},
     "output_type": "display_data"
    }
   ],
   "source": [
    "import cv2\n",
    "import numpy as np\n",
    "import matplotlib.pylab as plt\n",
    " \n",
    "img1 = np.zeros((200, 400))\n",
    "img2 = np.zeros((200, 400))\n",
    " \n",
    "img1[:, :200] = 255 # 좌측만 흰색\n",
    "img2[100:200, :] = 255 # 아래쪽만 흰색\n",
    " \n",
    "bitAnd = cv2.bitwise_and(img1, img2)\n",
    "bitOr = cv2.bitwise_or(img1, img2)\n",
    "bitXor = cv2.bitwise_xor(img1, img2)\n",
    "bitNot = cv2.bitwise_not(img1)\n",
    " \n",
    "imgs = {'img1': img1, 'img2':img2, 'and':bitAnd, 'or': bitOr, 'Xor': bitXor, 'Not(img1)': bitNot}\n",
    " \n",
    "for i, (title, img) in enumerate(imgs.items()):\n",
    "    plt.subplot(3, 2, i+1)\n",
    "    plt.title(title)\n",
    "    plt.imshow(img, 'gray')\n",
    "    plt.xticks([]); plt.yticks([])\n",
    "    \n",
    "plt.show()"
   ]
  },
  {
   "cell_type": "markdown",
   "id": "d9051b8b",
   "metadata": {},
   "source": [
    "### 카메라 영상 출력하기"
   ]
  },
  {
   "cell_type": "code",
   "execution_count": 3,
   "id": "45c6870e",
   "metadata": {},
   "outputs": [],
   "source": [
    "import cv2\n",
    " \n",
    "cap = cv2.VideoCapture(0)\n",
    "# cap으로 영상을 불러옵니다.\n",
    " \n",
    "cap.set(cv2.CAP_PROP_FRAME_WIDTH, 500)\n",
    "cap.set(cv2.CAP_PROP_FRAME_HEIGHT, 300)\n",
    "# 영상 프레임 사이즈를 결정합니다.\n",
    " \n",
    "if cap.isOpened():\n",
    "# 만약 카메라가 실행되고 있다면,\n",
    "    ret, a = cap.read()\n",
    "    # ret: True False value입니다.\n",
    "    # a: 영상 프레임을 읽어옵니다.\n",
    " \n",
    "    while ret:\n",
    "    # 제대로 카메라를 불러왔다면~ 반복문을 실행합니다. \n",
    "        ret, a = cap.read()\n",
    "        cv2.imshow(\"camera\", a)\n",
    "        # 이미지를 보여주는 방식과 같습니다.\n",
    " \n",
    "        if cv2.waitKey(1) & 0xFF == 27:\n",
    "            break\n",
    "        # 종료 커맨드.\n",
    " \n",
    "cap.release()\n",
    "cv2.destroyAllWindows()"
   ]
  },
  {
   "cell_type": "markdown",
   "id": "a239d7ec",
   "metadata": {},
   "source": [
    "### 프레임 2개로 모션 인식"
   ]
  },
  {
   "cell_type": "code",
   "execution_count": 4,
   "id": "2886d64c",
   "metadata": {},
   "outputs": [],
   "source": [
    "import cv2\n",
    "import numpy as np\n",
    " \n",
    "thresh = 25\n",
    "max_diff = 5\n",
    " \n",
    "a, b = None, None\n",
    " \n",
    "cap = cv2.VideoCapture(0)\n",
    "cap.set(cv2.CAP_PROP_FRAME_WIDTH, 600)\n",
    "cap.set(cv2.CAP_PROP_FRAME_HEIGHT, 400)\n",
    " \n",
    "if cap.isOpened():\n",
    "    ret, a = cap.read()\n",
    " \n",
    "    while ret:\n",
    "        ret, b = cap.read()\n",
    "        if not ret:\n",
    "            break\n",
    " \n",
    "        a_gray = cv2.cvtColor(a, cv2.COLOR_BGR2GRAY)\n",
    "        b_gray = cv2.cvtColor(b, cv2.COLOR_BGR2GRAY)\n",
    " \n",
    "        diff1 = cv2.absdiff(a_gray, b_gray)\n",
    "        ret, diff_t = cv2.threshold(diff1, thresh, 255, cv2.THRESH_BINARY)\n",
    " \n",
    "        k = cv2.getStructuringElement(cv2.MORPH_CROSS, (3, 3))\n",
    "        diff = cv2.morphologyEx(diff_t, cv2.MORPH_OPEN, k)\n",
    " \n",
    "        diff_cnt = cv2.countNonZero(diff)\n",
    "        if diff_cnt > max_diff:\n",
    "            nzero = np.nonzero(diff)\n",
    "            cv2.rectangle(b, (min(nzero[1]), min(nzero[0])),\n",
    "                          (max(nzero[1]), max(nzero[0])), (0, 255, 0), 2)\n",
    " \n",
    "            '''\n",
    "            rectangle: pt1, pt2 기준으로 사각형 프레임을 만들어줌.\n",
    "            nzero: diff는 카메라 영상과 사이즈가 같으며, a, b프레임의 차이 어레이를 의미함.\n",
    "            (min(nzero[1]), min(nzero[0]): diff에서 0이 아닌 값 중 행, 열이 가장 작은 포인트\n",
    "            (max(nzero[1]), max(nzero[0]): diff에서 0이 아닌 값 중 행, 열이 가장 큰 포인트\n",
    "            (0, 255, 0): 사각형을 그릴 색상 값\n",
    "            2 : thickness\n",
    "            '''\n",
    " \n",
    "            cv2.putText(b, \"Motion detected!!\", (10, 30),\n",
    "                                                 cv2.FONT_HERSHEY_DUPLEX, 0.5, (0, 0, 255))\n",
    " \n",
    "        cv2.imshow('motion', b)\n",
    " \n",
    "        a = b\n",
    " \n",
    "        if cv2.waitKey(1) & 0xFF == 27:\n",
    "            break"
   ]
  },
  {
   "cell_type": "code",
   "execution_count": 1,
   "id": "80264401",
   "metadata": {},
   "outputs": [],
   "source": [
    "import cv2\n",
    "import numpy as np\n",
    " \n",
    "thresh = 25\n",
    "max_diff = 5\n",
    " \n",
    "a, b, c = None, None, None\n",
    " \n",
    "cap = cv2.VideoCapture(0)\n",
    "cap.set(cv2.CAP_PROP_FRAME_WIDTH, 480)\n",
    "cap.set(cv2.CAP_PROP_FRAME_HEIGHT, 320)\n",
    " \n",
    "if cap.isOpened():\n",
    "    ret, a = cap.read()\n",
    "    ret, b = cap.read()\n",
    "    while ret:\n",
    "        ret, c = cap.read()\n",
    "        draw = c.copy()\n",
    "        if not ret:\n",
    "            break\n",
    " \n",
    "        a_gray = cv2.cvtColor(a, cv2.COLOR_BGR2GRAY)\n",
    "        b_gray = cv2.cvtColor(b, cv2.COLOR_BGR2GRAY)\n",
    "        c_gray = cv2.cvtColor(c, cv2.COLOR_BGR2GRAY)\n",
    " \n",
    "        diff1 = cv2.absdiff(a_gray, b_gray)\n",
    "        diff2 = cv2.absdiff(b_gray, c_gray)\n",
    " \n",
    "        ret, diff1_t = cv2.threshold(diff1, thresh, 255, cv2.THRESH_BINARY)\n",
    "        ret, diff2_t = cv2.threshold(diff2, thresh, 255, cv2.THRESH_BINARY)\n",
    " \n",
    "        diff = cv2.bitwise_and(diff1_t, diff2_t)\n",
    " \n",
    "        k = cv2.getStructuringElement(cv2.MORPH_CROSS, (3, 3))\n",
    "        diff = cv2.morphologyEx(diff, cv2.MORPH_OPEN, k)\n",
    " \n",
    "        diff_cnt = cv2.countNonZero(diff)\n",
    "        if diff_cnt > max_diff:\n",
    "            nzero = np.nonzero(diff)\n",
    "            cv2.rectangle(draw, (min(nzero[1]), min(nzero[0])),\n",
    "                          (max(nzero[1]), max(nzero[0])), (0, 255, 0), 2)\n",
    " \n",
    "            '''\n",
    "            rectangle: pt1, pt2 기준으로 사각형 프레임을 만들어줌.\n",
    "            nzero: diff는 카메라 영상과 사이즈가 같으며, a, b프레임의 차이 어레이를 의미함.\n",
    "            (min(nzero[1]), min(nzero[0]): diff에서 0이 아닌 값 중 행, 열이 가장 작은 포인트\n",
    "            (max(nzero[1]), max(nzero[0]): diff에서 0이 아닌 값 중 행, 열이 가장 큰 포인트\n",
    "            (0, 255, 0): 사각형을 그릴 색상 값\n",
    "            2 : thickness\n",
    "            '''\n",
    " \n",
    "            cv2.putText(draw, \"Motion detected!!\", (10, 30),\n",
    "                        cv2.FONT_HERSHEY_DUPLEX, 0.5, (0, 0, 255))\n",
    " \n",
    "        stacked = np.hstack((draw, cv2.cvtColor(diff, cv2.COLOR_GRAY2BGR)))\n",
    "        cv2.imshow('motion', stacked)\n",
    " \n",
    "        a = b\n",
    "        b = c\n",
    " \n",
    "        if cv2.waitKey(1) & 0xFF == 27:\n",
    "            break"
   ]
  },
  {
   "cell_type": "markdown",
   "id": "053cbe93",
   "metadata": {},
   "source": [
    "https://hyongdoc.tistory.com/411?category=840070"
   ]
  }
 ],
 "metadata": {
  "kernelspec": {
   "display_name": "Python 3",
   "language": "python",
   "name": "python3"
  },
  "language_info": {
   "codemirror_mode": {
    "name": "ipython",
    "version": 3
   },
   "file_extension": ".py",
   "mimetype": "text/x-python",
   "name": "python",
   "nbconvert_exporter": "python",
   "pygments_lexer": "ipython3",
   "version": "3.8.8"
  }
 },
 "nbformat": 4,
 "nbformat_minor": 5
}
